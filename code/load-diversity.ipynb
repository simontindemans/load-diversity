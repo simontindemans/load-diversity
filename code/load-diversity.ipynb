{
 "cells": [
  {
   "attachments": {},
   "cell_type": "markdown",
   "metadata": {},
   "source": [
    "# Diversity factor calculation for load profiles\n",
    "\n",
    "## Configuration"
   ]
  },
  {
   "cell_type": "code",
   "execution_count": 472,
   "metadata": {},
   "outputs": [],
   "source": [
    "DATA = \"../data/consumption.csv\"        # CSV with load user load profiles\n",
    "SAMPLESIZE = 100                        # Number of independent samples to use to estimate averages\n",
    "NUMBOOTSTRAP = 2000                     # Number of bootstrap resampling steps\n",
    "STEPFACTOR = 2                          # Aggregation level step size (multiplicative, i.e. 3 gives 1,3,9,...)"
   ]
  },
  {
   "attachments": {},
   "cell_type": "markdown",
   "metadata": {},
   "source": [
    "## Load packages and data"
   ]
  },
  {
   "cell_type": "code",
   "execution_count": 473,
   "metadata": {},
   "outputs": [],
   "source": [
    "import pandas\n",
    "import numpy as np\n",
    "import math\n",
    "import matplotlib.pyplot as pyplot\n",
    "import scipy.stats as stats"
   ]
  },
  {
   "cell_type": "code",
   "execution_count": 474,
   "metadata": {},
   "outputs": [],
   "source": [
    "dataframe = pandas.read_csv(DATA, index_col=0)"
   ]
  },
  {
   "attachments": {},
   "cell_type": "markdown",
   "metadata": {},
   "source": [
    "## Sampling and diversity factor calculation"
   ]
  },
  {
   "cell_type": "code",
   "execution_count": 475,
   "metadata": {},
   "outputs": [],
   "source": [
    "# determine the number of aggregation levels according to the size of the dataset and the STEPFACTOR\n",
    "aggregation_steps = 1 + math.floor(math.log(len(dataframe.columns))/math.log(STEPFACTOR))\n",
    "# calculate the aggregation levels, starting at 1\n",
    "aggregation_levels = [STEPFACTOR**i for i in range(aggregation_steps)]"
   ]
  },
  {
   "cell_type": "code",
   "execution_count": 476,
   "metadata": {},
   "outputs": [],
   "source": [
    "# initialise result array\n",
    "diversity_factor_array = np.zeros((len(aggregation_levels), SAMPLESIZE))\n",
    "# for every aggregation level and sample count\n",
    "for agg_step, households in enumerate(aggregation_levels):\n",
    "    for i in range(SAMPLESIZE):\n",
    "        # sample 'households' with replacement\n",
    "        sample = dataframe.sample(n=households, axis='columns', replace=True)\n",
    "        # calculate diversity factor\n",
    "        peak_aggregate_demand = sample.sum(axis='columns').max()\n",
    "        sum_of_peak_demand = sample.max().sum()\n",
    "        if peak_aggregate_demand > 1e-5:\n",
    "            diversity_factor = sum_of_peak_demand / peak_aggregate_demand\n",
    "        else:\n",
    "            # define DF=1.0 when peak aggregate demand is zero or negative\n",
    "            diversity_factor = 1.0\n",
    "        # store value in array\n",
    "        diversity_factor_array[agg_step, i] = diversity_factor\n"
   ]
  },
  {
   "attachments": {},
   "cell_type": "markdown",
   "metadata": {},
   "source": [
    "## Postprocessing"
   ]
  },
  {
   "cell_type": "code",
   "execution_count": 481,
   "metadata": {},
   "outputs": [],
   "source": [
    "# calculate sample average for each aggregation level\n",
    "average_diversity_factor = diversity_factor_array.mean(axis=1)\n",
    "\n",
    "# identify sample sets with non-identical values (usually all other than aggregation level = 1)\n",
    "bootstrap_filter = (np.equal(diversity_factor_array[:,0:1], diversity_factor_array).all(axis=1) == False)\n",
    "# apply BCa bootstrap analysis\n",
    "bootstrap_stats = stats.bootstrap((diversity_factor_array[bootstrap_filter],), np.mean, n_resamples=NUMBOOTSTRAP, axis=1, vectorized=True)\n",
    "\n",
    "# extract bootstrap standard errors (and use zero where all samples are identical)\n",
    "standard_error = np.zeros(aggregation_steps)\n",
    "standard_error[bootstrap_filter] = bootstrap_stats.standard_error\n",
    "\n",
    "# extract absolute up / down errors\n",
    "diversity_factor_errors = np.zeros((2,aggregation_steps))\n",
    "diversity_factor_errors[0, bootstrap_filter] = average_diversity_factor[bootstrap_filter] - bootstrap_stats.confidence_interval.low\n",
    "diversity_factor_errors[1, bootstrap_filter] = bootstrap_stats.confidence_interval.high - average_diversity_factor[bootstrap_filter]"
   ]
  },
  {
   "attachments": {},
   "cell_type": "markdown",
   "metadata": {},
   "source": [
    "## Output"
   ]
  },
  {
   "cell_type": "code",
   "execution_count": 483,
   "metadata": {},
   "outputs": [],
   "source": [
    "def round_se(x, se):\n",
    "    \"\"\"\n",
    "    Helper function to print value with its standard error, in decimal notation\n",
    "\n",
    "    Parameters\n",
    "    ----------\n",
    "    x : float\n",
    "        value to be printed\n",
    "    se : float\n",
    "        standard error of x\n",
    "\n",
    "    Returns\n",
    "    -------\n",
    "    string\n",
    "        Output of type \"x (se)\" with appropriate number of digits\n",
    "    \"\"\"\n",
    "    if (se > 0):\n",
    "        # determine number of digits to the left of the decimal point for x and se\n",
    "        digits_x = int(math.floor(math.log10(abs(x))))\n",
    "        digits_se = int(math.floor(math.log10(abs(se))))\n",
    "        # compute the number of significant digits for x\n",
    "        digits = digits_x - digits_se + 2\n",
    "        # construct return string\n",
    "        return f\"{np.format_float_positional(x, precision=digits, fractional=False, trim='k')} \" + \\\n",
    "                f\"({np.format_float_positional(se, precision=2, fractional=False, trim='k')})\"\n",
    "    elif (se == 0):\n",
    "        # Precision is infinite, so report using standard precision\n",
    "        return np.format_float_positional(x, trim='k') + \" (0)\"\n",
    "    else:\n",
    "        # se cannot be negative\n",
    "        raise ValueError\n"
   ]
  },
  {
   "cell_type": "code",
   "execution_count": 486,
   "metadata": {},
   "outputs": [
    {
     "name": "stdout",
     "output_type": "stream",
     "text": [
      "    #      diversity factor (standard error)\n",
      "    1      1. (0)\n",
      "    2      1.393 (0.017)\n",
      "    4      1.930 (0.027)\n",
      "    8      2.498 (0.033)\n",
      "   16      3.153 (0.035)\n",
      "   32      3.631 (0.032)\n",
      "   64      4.044 (0.032)\n",
      "  128      4.237 (0.025)\n",
      "  256      4.423 (0.020)\n",
      "  512      4.490 (0.015)\n",
      " 1024      4.526 (0.012)\n",
      " 2048      4.5407 (0.007)\n",
      " 4096      4.5558 (0.0056)\n"
     ]
    }
   ],
   "source": [
    "# print tabular output\n",
    "print(\"    #      diversity factor (standard error)\")\n",
    "for idx, households in enumerate(aggregation_levels):\n",
    "    print(f\"{households:5}      {round_se(average_diversity_factor[idx], standard_error[idx])}\")"
   ]
  },
  {
   "cell_type": "code",
   "execution_count": 487,
   "metadata": {},
   "outputs": [
    {
     "data": {
      "image/png": "[encoded data removed]",
      "text/plain": [
       "<Figure size 640x480 with 1 Axes>"
      ]
     },
     "metadata": {},
     "output_type": "display_data"
    }
   ],
   "source": [
    "# plot output\n",
    "pyplot.errorbar(aggregation_levels, average_diversity_factor, yerr=diversity_factor_errors, fmt='.--')\n",
    "pyplot.xscale('log')\n",
    "pyplot.ylim(0, None)\n",
    "pyplot.xlabel('aggregation level [# of connections]')\n",
    "pyplot.ylabel('diversity factor')\n",
    "pyplot.title('diversity factors with 95% confidence intervals')\n",
    "# save a PDF copy\n",
    "pyplot.savefig('../output/diversity_factor.pdf')"
   ]
  },
  {
   "cell_type": "code",
   "execution_count": null,
   "metadata": {},
   "outputs": [],
   "source": []
  }
 ],
 "metadata": {
  "kernelspec": {
   "display_name": "opt-adequacy",
   "language": "python",
   "name": "python3"
  },
  "language_info": {
   "codemirror_mode": {
    "name": "ipython",
    "version": 3
   },
   "file_extension": ".py",
   "mimetype": "text/x-python",
   "name": "python",
   "nbconvert_exporter": "python",
   "pygments_lexer": "ipython3",
   "version": "3.11.4"
  },
  "orig_nbformat": 4
 },
 "nbformat": 4,
 "nbformat_minor": 2
}
